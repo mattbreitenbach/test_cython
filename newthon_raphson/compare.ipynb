{
 "cells": [
  {
   "cell_type": "code",
   "execution_count": 1,
   "id": "a60b43cb",
   "metadata": {},
   "outputs": [
    {
     "name": "stdout",
     "output_type": "stream",
     "text": [
      "[0.6776507026568002, 0.001, 13]\n",
      "tempo python puro: 10.128321899999719\n"
     ]
    }
   ],
   "source": [
    "from timeit import timeit\n",
    "\n",
    "#TEMPO EM PYTHON\n",
    "\n",
    "from metodo_python import metodo_newton as newton_python\n",
    "\n",
    "\n",
    "print(newton_python(50))\n",
    "\n",
    "tempo_python = timeit(\"metodo_newton(50)\", number=1_000_000, setup=\"from metodo_python import metodo_newton\")\n",
    "print(f\"tempo python puro: {tempo_python}\")"
   ]
  },
  {
   "cell_type": "code",
   "execution_count": 2,
   "id": "39074e6b",
   "metadata": {},
   "outputs": [
    {
     "name": "stdout",
     "output_type": "stream",
     "text": [
      "[0.6776507026568002, 0.001, 13]\n",
      "tempo tipos Cython: 3.55211860000054\n"
     ]
    }
   ],
   "source": [
    "#TEMPO EM CYTHON\n",
    "\n",
    "from metodo_cython import metodo_newton as newton_cython\n",
    "\n",
    "\n",
    "print(newton_cython(50, 0.001, 1))\n",
    "\n",
    "tempo_cython = timeit(\"metodo_newton(50)\", number=1_000_000, setup=\"from metodo_cython import metodo_newton\")\n",
    "print(f\"tempo tipos Cython: {tempo_cython}\")"
   ]
  },
  {
   "cell_type": "code",
   "execution_count": 3,
   "id": "94eb81b1",
   "metadata": {},
   "outputs": [
    {
     "name": "stdout",
     "output_type": "stream",
     "text": [
      "Cython e 2.8513467709096703 X mais rapido que python\n"
     ]
    }
   ],
   "source": [
    "print(f\"Cython e {tempo_python/tempo_cython} X mais rapido que python\")"
   ]
  },
  {
   "cell_type": "code",
   "execution_count": null,
   "id": "831c21c1",
   "metadata": {},
   "outputs": [],
   "source": []
  }
 ],
 "metadata": {
  "kernelspec": {
   "display_name": "Python [conda env:ecocomp]",
   "language": "python",
   "name": "conda-env-ecocomp-py"
  },
  "language_info": {
   "codemirror_mode": {
    "name": "ipython",
    "version": 3
   },
   "file_extension": ".py",
   "mimetype": "text/x-python",
   "name": "python",
   "nbconvert_exporter": "python",
   "pygments_lexer": "ipython3",
   "version": "3.10.4"
  }
 },
 "nbformat": 4,
 "nbformat_minor": 5
}
